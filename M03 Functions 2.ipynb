{
 "cells": [
  {
   "cell_type": "code",
   "execution_count": 11,
   "id": "cd2188c5",
   "metadata": {},
   "outputs": [
    {
     "name": "stdout",
     "output_type": "stream",
     "text": [
      "1\n",
      "3\n",
      "5\n",
      "7\n",
      "9\n",
      "Third number is: 5\n"
     ]
    }
   ],
   "source": [
    "#create function\n",
    "def get_odds():\n",
    "    #find and print odd numbers\n",
    "    for num in range(10):\n",
    "        #check if odd\n",
    "        if num % 2 != 0:\n",
    "            print(num)\n",
    "    #count to be incremented\n",
    "    c = 0\n",
    "    #find and print third odd number\n",
    "    for num in range(10):\n",
    "        #check if odd\n",
    "        if num % 2 != 0:\n",
    "            #if count is correct, print num\n",
    "            if c == 2:\n",
    "                print(\"Third number is:\",num)\n",
    "                break\n",
    "            #increment count\n",
    "            c += 1\n",
    "get_odds()"
   ]
  }
 ],
 "metadata": {
  "kernelspec": {
   "display_name": "Python 3 (ipykernel)",
   "language": "python",
   "name": "python3"
  },
  "language_info": {
   "codemirror_mode": {
    "name": "ipython",
    "version": 3
   },
   "file_extension": ".py",
   "mimetype": "text/x-python",
   "name": "python",
   "nbconvert_exporter": "python",
   "pygments_lexer": "ipython3",
   "version": "3.11.5"
  }
 },
 "nbformat": 4,
 "nbformat_minor": 5
}
