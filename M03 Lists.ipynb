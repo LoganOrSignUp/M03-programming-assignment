{
 "cells": [
  {
   "cell_type": "code",
   "execution_count": 6,
   "id": "17379b26",
   "metadata": {},
   "outputs": [
    {
     "name": "stdout",
     "output_type": "stream",
     "text": [
      "No modifications:  ['mozzarella', 'cinderella', 'salmonella']\n",
      "Capitalize C:  ['mozzarella', 'Cinderella', 'salmonella']\n",
      "Capitalize mozzarella:  ['MOZZARELLA', 'Cinderella', 'salmonella']\n",
      "Remove salmonella:  ['MOZZARELLA', 'Cinderella']\n"
     ]
    }
   ],
   "source": [
    "#initial list, makes a list and prints it\n",
    "things = [\"mozzarella\",\"cinderella\",\"salmonella\"]\n",
    "print(\"No modifications: \",things)\n",
    "\n",
    "#first modification, changes item 2 so it is now capitalized and print the list\n",
    "things[1] = \"Cinderella\"\n",
    "print(\"Capitalize C: \",things)\n",
    "\n",
    "#second modification, changes item 1 so it is now all caps and print the list\n",
    "things[0] = \"MOZZARELLA\"\n",
    "print(\"Capitalize mozzarella: \",things)\n",
    "\n",
    "#third modification, remove item 3 and print the list\n",
    "things.pop(2)\n",
    "print(\"Remove salmonella: \",things)"
   ]
  }
 ],
 "metadata": {
  "kernelspec": {
   "display_name": "Python 3 (ipykernel)",
   "language": "python",
   "name": "python3"
  },
  "language_info": {
   "codemirror_mode": {
    "name": "ipython",
    "version": 3
   },
   "file_extension": ".py",
   "mimetype": "text/x-python",
   "name": "python",
   "nbconvert_exporter": "python",
   "pygments_lexer": "ipython3",
   "version": "3.11.5"
  }
 },
 "nbformat": 4,
 "nbformat_minor": 5
}
